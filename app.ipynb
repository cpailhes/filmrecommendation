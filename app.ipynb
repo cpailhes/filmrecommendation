{
 "cells": [
  {
   "cell_type": "code",
   "execution_count": 1,
   "id": "abroad-leader",
   "metadata": {},
   "outputs": [
    {
     "data": {
      "text/plain": [
       "356    Charlie's Angels \n",
       "232            Oblivion \n",
       "939               Congo \n",
       "742             Hellboy \n",
       "256    The Green Hornet \n",
       "Name: movie_title, dtype: object"
      ]
     },
     "metadata": {},
     "output_type": "display_data"
    }
   ],
   "source": [
    "import ipywidgets as widgets\n",
    "import pandas as pd\n",
    "from IPython.display import display,clear_output\n",
    "\n",
    "\n",
    "df_predict= pd.read_csv('df_predict')\n",
    "movie_title_list=df_predict[\"movie_title\"].to_list()\n",
    "\n",
    "w =widgets.Dropdown(\n",
    "    placeholder='Choose movie',\n",
    "    options=movie_title_list,\n",
    "    description='movie :',\n",
    "    disabled=False\n",
    ")\n",
    "\n",
    "def dropdown_eventhandler(change):\n",
    "   print('change')\n",
    "\n",
    "   idx= df_predict.index[df_predict.movie_title==change.new]\n",
    "   clear_output(wait=True)\n",
    "\n",
    "   cluster=df_predict[df_predict.movie_title==change.new].predict.values\n",
    "   column =\"dist_\"+str(cluster[0])\n",
    "   display(df_predict.nsmallest(5,column )[\"movie_title\"])\n",
    "   \n",
    "w.observe(dropdown_eventhandler, names='value')\n",
    "\n",
    "display(w)"
   ]
  },
  {
   "cell_type": "code",
   "execution_count": null,
   "id": "smoking-adobe",
   "metadata": {},
   "outputs": [],
   "source": []
  }
 ],
 "metadata": {
  "kernelspec": {
   "display_name": "Python 3",
   "language": "python",
   "name": "python3"
  },
  "language_info": {
   "codemirror_mode": {
    "name": "ipython",
    "version": 3
   },
   "file_extension": ".py",
   "mimetype": "text/x-python",
   "name": "python",
   "nbconvert_exporter": "python",
   "pygments_lexer": "ipython3",
   "version": "3.8.5"
  }
 },
 "nbformat": 4,
 "nbformat_minor": 5
}
