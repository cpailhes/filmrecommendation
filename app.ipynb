{
 "cells": [
  {
   "cell_type": "code",
   "execution_count": 2,
   "id": "4fd457a8",
   "metadata": {},
   "outputs": [
    {
     "data": {
      "application/vnd.jupyter.widget-view+json": {
       "model_id": "6f91b7d893db4393822563641d100369",
       "version_major": 2,
       "version_minor": 0
      },
      "text/plain": [
       "Dropdown(description='movie :', options=('Avatar\\xa0', \"Pirates of the Caribbean: At World's End\\xa0\", 'Spectr…"
      ]
     },
     "metadata": {},
     "output_type": "display_data"
    },
    {
     "data": {
      "application/vnd.jupyter.widget-view+json": {
       "model_id": "089496f42ae8499cb1e4ae1a00548173",
       "version_major": 2,
       "version_minor": 0
      },
      "text/plain": [
       "Output()"
      ]
     },
     "metadata": {},
     "output_type": "display_data"
    }
   ],
   "source": [
    "import ipywidgets as widgets\n",
    "import pandas as pd\n",
    "from IPython.display import display\n",
    "\n",
    "\n",
    "df_predict= pd.read_csv('df_predict')\n",
    "movie_title_list=df_predict[\"movie_title\"].to_list()\n",
    "\n",
    "w =widgets.Dropdown(\n",
    "    placeholder='Choose movie',\n",
    "    options=movie_title_list,\n",
    "    description='movie :',\n",
    "    disabled=False\n",
    ")\n",
    "\n",
    "output = widgets.Output()\n",
    "@output.capture(clear_output=False,wait=True) # based on https://github.com/jupyter-widgets/ipywidgets/issues/1846 and https://ipywidgets.readthedocs.io/en/latest/examples/Output%20Widget.html\n",
    "def dropdown_eventhandler(change):\n",
    "   print('for movie : {}'.format(change.new) )\n",
    "\n",
    "   cluster=df_predict[df_predict.movie_title==change.new].predict.values\n",
    "   column =\"dist_\"+str(cluster[0])\n",
    "   print('we could recommend you :\\n{} '.format('\\n'.join(df_predict.nsmallest(5,column )[\"movie_title\"].values)))\n",
    "   #print(df_predict.nsmallest(5,column )[\"movie_title\"])\n",
    "   \n",
    "w.observe(dropdown_eventhandler, names='value')\n",
    "\n",
    "display(w)\n",
    "output"
   ]
  },
  {
   "cell_type": "code",
   "execution_count": null,
   "id": "0effa4a1",
   "metadata": {},
   "outputs": [],
   "source": []
  }
 ],
 "metadata": {
  "kernelspec": {
   "display_name": "Python 3",
   "language": "python",
   "name": "python3"
  },
  "language_info": {
   "codemirror_mode": {
    "name": "ipython",
    "version": 3
   },
   "file_extension": ".py",
   "mimetype": "text/x-python",
   "name": "python",
   "nbconvert_exporter": "python",
   "pygments_lexer": "ipython3",
   "version": "3.8.5"
  }
 },
 "nbformat": 4,
 "nbformat_minor": 5
}
